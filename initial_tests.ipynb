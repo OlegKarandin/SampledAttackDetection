{
 "cells": [
  {
   "cell_type": "markdown",
   "metadata": {},
   "source": [
    "# Introduction\n",
    "Point of this notebook is simply to observe (withotu any decision making) the performance across a matrix of window skips and window lengths"
   ]
  },
  {
   "cell_type": "code",
   "execution_count": 1,
   "metadata": {},
   "outputs": [],
   "source": [
    "from sampleddetection.environment.datastructures import Action, State\n",
    "from sampleddetection.environment.model import Environment\n",
    "from sampleddetection.datastructures.flowsession import SampledFlowSession\n",
    "import numpy as np\n",
    "from typing import List\n",
    "import os\n",
    "from tqdm.notebook import tqdm\n",
    "from pathlib import Path\n",
    "from itertools import product\n",
    "import random\n",
    "\n",
    "# Make sure these are reloaded when cells are rerun\n",
    "%load_ext autoreload\n",
    "%autoreload 2"
   ]
  },
  {
   "cell_type": "code",
   "execution_count": 2,
   "metadata": {},
   "outputs": [
    {
     "name": "stdout",
     "output_type": "stream",
     "text": [
      "Working with 16 permutaitions\n"
     ]
    }
   ],
   "source": [
    "# Setup the environment\n",
    "# From Microsecond to dekasecond\n",
    "window_skips    = 2*np.logspace(-6, 1, 4, dtype=float)\n",
    "window_lengths  = 2*np.logspace(-5, 1, 4, dtype=float)\n",
    "#window_lengths  = 2*np.linspace(0.01, , 3, dtype=float)\n",
    "batch_size      = 16\n",
    "csv_path = './data/eightMiniLabelWed.csv'\n",
    "dataset_dir    = './data/precalc_windows/'\n",
    "dataset_filename = 'ws_{}_wl_{}.csv'\n",
    "desired_features = [\n",
    "            # Debugging info\n",
    "            \"start_ts\",\n",
    "            \"start_timestamp\",\n",
    "            \"end_timestamp\",\n",
    "            \"tot_fwd_pkts\",\n",
    "            \"tot_bwd_pkts\",\n",
    "            # Non debugging\n",
    "            \"label\",\n",
    "            \"fwd_pkt_len_max\",\n",
    "            \"fwd_pkt_len_min\",\n",
    "            \"fwd_pkt_len_mean\",\n",
    "            \"bwd_pkt_len_max\",\n",
    "            \"bwd_pkt_len_min\",\n",
    "            \"bwd_pkt_len_mean\",\n",
    "            \"flow_byts_s\",\n",
    "            \"flow_pkts_s\",\n",
    "            \"flow_iat_mean\",\n",
    "            \"flow_iat_max\",\n",
    "            \"flow_iat_min\",\n",
    "            \"fwd_iat_mean\",\n",
    "            \"fwd_iat_max\",\n",
    "            \"fwd_iat_min\",\n",
    "            \"bwd_iat_max\",\n",
    "            \"bwd_iat_min\",\n",
    "            \"bwd_iat_mean\",\n",
    "            \"pkt_len_min\",\n",
    "            \"pkt_len_max\",\n",
    "            \"pkt_len_mean\",\n",
    "]\n",
    "\n",
    "# Use product to get a matrix of combinations\n",
    "options_matrix = list(product(window_skips, window_lengths))\n",
    "print(f\"Working with {len(options_matrix)} permutaitions\")"
   ]
  },
  {
   "cell_type": "code",
   "execution_count": 3,
   "metadata": {},
   "outputs": [
    {
     "name": "stderr",
     "output_type": "stream",
     "text": [
      "2024-03-29 10:35:06,283 - DynamicWindowSampler - INFO - Loading the capture file data/eightMiniLabelWed.csv\n",
      "2024-03-29 10:35:06,284 - DynamicWindowSampler - INFO - Loading the capture file data/eightMiniLabelWed.csv\n",
      "2024-03-29 10:35:06,286 - CSVReader - INFO - Reading csv...\n"
     ]
    },
    {
     "name": "stderr",
     "output_type": "stream",
     "text": [
      "2024-03-29 10:35:06,681 - CSVReader - INFO - CSV loaded, took  0.39 seconds with 199560 length\n"
     ]
    }
   ],
   "source": [
    "# Create or Load dataset\n",
    "from sampleddetection.samplers.window_sampler import DynamicWindowSampler\n",
    "from sampleddetection.writers.convenience import save_flows_to_csv\n",
    "from sampleddetection.readers.readers import CSVReader\n",
    "from sampleddetection.common_lingo import Attack, ATTACK_TO_STRING\n",
    "\n",
    "sampler = DynamicWindowSampler(Path(csv_path))\n",
    "environment = Environment(sampler)\n",
    "min_necessary_classes = batch_size * 128\n",
    "\n",
    "samples_per_class = {Attack.BENIGN: min_necessary_classes, Attack.GENERAL: min_necessary_classes}\n",
    "    \n",
    "# Create it\n",
    "    # Ensure that the dataset is balanced."
   ]
  },
  {
   "cell_type": "code",
   "execution_count": 4,
   "metadata": {},
   "outputs": [],
   "source": [
    "from sampleddetection.datastructures.flow import Flow\n",
    "from typing import Dict, Tuple\n",
    "\n",
    "def generate_sessions(amount: int, ws: float, wl: float) -> List[Tuple[Tuple,Flow]]:\n",
    "    \"\"\"Ensure we get a balanced sampling from the large dataset.\"\"\"\n",
    "    cur_amnt = 0\n",
    "    flows: List[Tuple,Flow] = []\n",
    "    inner_bar = tqdm(total=min_necessary_classes*2,desc=f'Generating ws: {ws}- wl: {wl} flow',leave=False)\n",
    "    count_per_class = {Attack.BENIGN: 0, Attack.GENERAL: 0}\n",
    "    distributions = {Attack.BENIGN: 0, Attack.GENERAL: 0}\n",
    "\n",
    "    while sum(list(count_per_class.values())) < amount*2:\n",
    "\n",
    "        flow_sesh =  environment.reset(winskip=ws,winlen=wl).flow_sesh\n",
    "        #amnt_sesh_flows = len(flow_sesh.flows.keys())\n",
    "        # Count the distributions\n",
    "        label_distributions = flow_sesh.flow_label_distribution()\n",
    "        # For now just predict binary attack-benining\n",
    "        for kflow, flow in flow_sesh.flows.items() : \n",
    "            label = Attack.GENERAL if flow.label != Attack.BENIGN else Attack.BENIGN\n",
    "\n",
    "            if count_per_class[label] >= min_necessary_classes:\n",
    "                continue # Dont over add\n",
    "\n",
    "            count_per_class[label] += 1\n",
    "\n",
    "            flows.append((kflow,flow))\n",
    "\n",
    "            inner_bar.update(1)\n",
    "    return flows"
   ]
  },
  {
   "cell_type": "code",
   "execution_count": 7,
   "metadata": {},
   "outputs": [
    {
     "data": {
      "application/vnd.jupyter.widget-view+json": {
       "model_id": "95c0642020114e1c99618d99f1099864",
       "version_major": 2,
       "version_minor": 0
      },
      "text/plain": [
       "Creating datasets:   0%|          | 0/16 [00:00<?, ?it/s]"
      ]
     },
     "metadata": {},
     "output_type": "display_data"
    },
    {
     "data": {
      "application/vnd.jupyter.widget-view+json": {
       "model_id": "43087c773a454a10b252f589c73b4077",
       "version_major": 2,
       "version_minor": 0
      },
      "text/plain": [
       "Generating ws: 2e-06- wl: 0.002 flow:   0%|          | 0/4096 [00:00<?, ?it/s]"
      ]
     },
     "metadata": {},
     "output_type": "display_data"
    },
    {
     "data": {
      "application/vnd.jupyter.widget-view+json": {
       "model_id": "112f15fce67f47d5824c53fd748ef40d",
       "version_major": 2,
       "version_minor": 0
      },
      "text/plain": [
       "Generating ws: 2e-06- wl: 0.043088693800637665 flow:   0%|          | 0/4096 [00:00<?, ?it/s]"
      ]
     },
     "metadata": {},
     "output_type": "display_data"
    },
    {
     "data": {
      "application/vnd.jupyter.widget-view+json": {
       "model_id": "87a83d3b32ed4fda965ce486930c680f",
       "version_major": 2,
       "version_minor": 0
      },
      "text/plain": [
       "Generating ws: 2e-06- wl: 0.9283177667225555 flow:   0%|          | 0/4096 [00:00<?, ?it/s]"
      ]
     },
     "metadata": {},
     "output_type": "display_data"
    },
    {
     "data": {
      "application/vnd.jupyter.widget-view+json": {
       "model_id": "04225d04f3814c618857c8f6f974250c",
       "version_major": 2,
       "version_minor": 0
      },
      "text/plain": [
       "Generating ws: 2e-06- wl: 20.0 flow:   0%|          | 0/4096 [00:00<?, ?it/s]"
      ]
     },
     "metadata": {},
     "output_type": "display_data"
    },
    {
     "data": {
      "application/vnd.jupyter.widget-view+json": {
       "model_id": "e19acea00b88412cb2508d9c60ced393",
       "version_major": 2,
       "version_minor": 0
      },
      "text/plain": [
       "Generating ws: 0.0004308869380063769- wl: 0.002 flow:   0%|          | 0/4096 [00:00<?, ?it/s]"
      ]
     },
     "metadata": {},
     "output_type": "display_data"
    },
    {
     "data": {
      "application/vnd.jupyter.widget-view+json": {
       "model_id": "4289a9f6a1254ff68d251b4a9d2f17be",
       "version_major": 2,
       "version_minor": 0
      },
      "text/plain": [
       "Generating ws: 0.0004308869380063769- wl: 0.043088693800637665 flow:   0%|          | 0/4096 [00:00<?, ?it/s]"
      ]
     },
     "metadata": {},
     "output_type": "display_data"
    },
    {
     "data": {
      "application/vnd.jupyter.widget-view+json": {
       "model_id": "801882eda263461f8396a85d7727eb50",
       "version_major": 2,
       "version_minor": 0
      },
      "text/plain": [
       "Generating ws: 0.0004308869380063769- wl: 0.9283177667225555 flow:   0%|          | 0/4096 [00:00<?, ?it/s]"
      ]
     },
     "metadata": {},
     "output_type": "display_data"
    },
    {
     "data": {
      "application/vnd.jupyter.widget-view+json": {
       "model_id": "9d122526f96f4b34af89ad005160a925",
       "version_major": 2,
       "version_minor": 0
      },
      "text/plain": [
       "Generating ws: 0.0004308869380063769- wl: 20.0 flow:   0%|          | 0/4096 [00:00<?, ?it/s]"
      ]
     },
     "metadata": {},
     "output_type": "display_data"
    },
    {
     "data": {
      "application/vnd.jupyter.widget-view+json": {
       "model_id": "0b8c49bde5b549e88f4e7335dadf1d1e",
       "version_major": 2,
       "version_minor": 0
      },
      "text/plain": [
       "Generating ws: 0.09283177667225564- wl: 0.002 flow:   0%|          | 0/4096 [00:00<?, ?it/s]"
      ]
     },
     "metadata": {},
     "output_type": "display_data"
    },
    {
     "data": {
      "application/vnd.jupyter.widget-view+json": {
       "model_id": "b408acf0156d4124984f2c29c82d05a4",
       "version_major": 2,
       "version_minor": 0
      },
      "text/plain": [
       "Generating ws: 0.09283177667225564- wl: 0.043088693800637665 flow:   0%|          | 0/4096 [00:00<?, ?it/s]"
      ]
     },
     "metadata": {},
     "output_type": "display_data"
    },
    {
     "data": {
      "application/vnd.jupyter.widget-view+json": {
       "model_id": "e9bab88ac9de4c83bb407c0fa9816f55",
       "version_major": 2,
       "version_minor": 0
      },
      "text/plain": [
       "Generating ws: 0.09283177667225564- wl: 0.9283177667225555 flow:   0%|          | 0/4096 [00:00<?, ?it/s]"
      ]
     },
     "metadata": {},
     "output_type": "display_data"
    },
    {
     "data": {
      "application/vnd.jupyter.widget-view+json": {
       "model_id": "22dde2ae03cb4a74a85e25fbc5518ae0",
       "version_major": 2,
       "version_minor": 0
      },
      "text/plain": [
       "Generating ws: 0.09283177667225564- wl: 20.0 flow:   0%|          | 0/4096 [00:00<?, ?it/s]"
      ]
     },
     "metadata": {},
     "output_type": "display_data"
    },
    {
     "data": {
      "application/vnd.jupyter.widget-view+json": {
       "model_id": "ad5f265f08064845874c189727128ebe",
       "version_major": 2,
       "version_minor": 0
      },
      "text/plain": [
       "Generating ws: 20.0- wl: 0.002 flow:   0%|          | 0/4096 [00:00<?, ?it/s]"
      ]
     },
     "metadata": {},
     "output_type": "display_data"
    },
    {
     "data": {
      "application/vnd.jupyter.widget-view+json": {
       "model_id": "1c028e8437a94754b5346f87f82e69cf",
       "version_major": 2,
       "version_minor": 0
      },
      "text/plain": [
       "Generating ws: 20.0- wl: 0.043088693800637665 flow:   0%|          | 0/4096 [00:00<?, ?it/s]"
      ]
     },
     "metadata": {},
     "output_type": "display_data"
    },
    {
     "data": {
      "application/vnd.jupyter.widget-view+json": {
       "model_id": "1bf6b11d06704dbb9c6c7adfdc87d4d9",
       "version_major": 2,
       "version_minor": 0
      },
      "text/plain": [
       "Generating ws: 20.0- wl: 0.9283177667225555 flow:   0%|          | 0/4096 [00:00<?, ?it/s]"
      ]
     },
     "metadata": {},
     "output_type": "display_data"
    },
    {
     "data": {
      "application/vnd.jupyter.widget-view+json": {
       "model_id": "abab7df89b784971811fc95072b22f38",
       "version_major": 2,
       "version_minor": 0
      },
      "text/plain": [
       "Generating ws: 20.0- wl: 20.0 flow:   0%|          | 0/4096 [00:00<?, ?it/s]"
      ]
     },
     "metadata": {},
     "output_type": "display_data"
    }
   ],
   "source": [
    "\n",
    "flows = {}\n",
    "# Set random seeds:\n",
    "np.random.seed(0)\n",
    "random.seed(0)\n",
    "import csv\n",
    "\n",
    "\n",
    "# Generate the datasets\n",
    "for ws, wl in tqdm(options_matrix,desc='Creating datasets'):\n",
    "    # Check if datasets exists\n",
    "    flows = {f\"ws:{ws}-ws:{wl}\" : []}\n",
    "    target_name = os.path.join(dataset_dir,dataset_filename.format(ws, wl))\n",
    "    if os.path.exists(target_name):\n",
    "        print(f\"Will later be Loading {dataset_filename.format(ws, wl)} from {dataset_dir}\")\n",
    "        continue\n",
    "    sesh = generate_sessions(min_necessary_classes,ws,wl)\n",
    "\n",
    "    ds_path = os.path.join(dataset_dir,dataset_filename.format(ws, wl))\n",
    "    save_flows_to_csv(sesh, ds_path, desired_features=desired_features, samples_per_class=samples_per_class,overwrite=True)\n",
    "    \n"
   ]
  },
  {
   "cell_type": "code",
   "execution_count": null,
   "metadata": {},
   "outputs": [],
   "source": [
    "# Load PreCalced datasets\n",
    "for ws, wl in tqdm(options_matrix,desc='Loading datasets'):\n",
    "    target_name = os.path.join(dataset_dir,dataset_filename.format(ws, wl))\n",
    "    if not os.path.exists(target_name):\n",
    "        print(f\"Could not find {target_name}\")\n",
    "        raise FileNotFoundError"
   ]
  },
  {
   "cell_type": "markdown",
   "metadata": {},
   "source": [
    "# Training Model on Different Schedules\n",
    "\n",
    "We will use the matrix of different parameters to see how the training changes performance."
   ]
  },
  {
   "cell_type": "code",
   "execution_count": 51,
   "metadata": {},
   "outputs": [],
   "source": [
    "# This will be a function that will take flows calculated/loaded up above and will train the model. \n",
    "# It will return data of  the training and testing results to later be plotted in a loop that will call it\n",
    "import pandas as pd\n",
    "from sampleddetection.util.data import clean_dataset,train_classifier_XGBoost\n",
    "from sklearn.model_selection import train_test_split\n",
    "features = [\n",
    "            \"label\",\n",
    "            \"fwd_pkt_len_max\",\n",
    "            \"fwd_pkt_len_min\",\n",
    "            \"fwd_pkt_len_mean\",\n",
    "            \"bwd_pkt_len_max\",\n",
    "            \"bwd_pkt_len_min\",\n",
    "            \"bwd_pkt_len_mean\",\n",
    "            \"flow_byts_s\",\n",
    "            \"flow_pkts_s\",\n",
    "            \"flow_iat_mean\",\n",
    "            \"flow_iat_max\",\n",
    "            \"flow_iat_min\",\n",
    "            \"fwd_iat_mean\",\n",
    "            \"fwd_iat_max\",\n",
    "            \"fwd_iat_min\",\n",
    "            \"bwd_iat_max\",\n",
    "            \"bwd_iat_min\",\n",
    "            \"bwd_iat_mean\",\n",
    "            \"pkt_len_min\",\n",
    "            \"pkt_len_max\",\n",
    "            \"pkt_len_mean\",\n",
    "]\n",
    "attacks_to_detect = [\n",
    "    Attack.SLOWLORIS\n",
    "]\n",
    "\n",
    "def evaluate_performance(df: pd.DataFrame, ws: float, wl: float) -> Dict:\n",
    "    \"\"\"Evaluate the performance of the model with the given dataset.\"\"\"\n",
    "    # Clean the dataset\n",
    "    df_ddos = clean_dataset(df,features, attacks_to_detect)\n",
    "\n",
    "    # Train the Model\n",
    "    X_train, X_test, y_train, y_test = train_test_split(\n",
    "        df_ddos.drop(columns=[\"label\"]), df_ddos[\"label\"], test_size=0.3\n",
    "    )\n",
    "\n",
    "    mode, evals = train_classifier_XGBoost(X_train,  y_train,X_test, y_test)\n",
    "\n",
    "    return evals\n",
    "    "
   ]
  },
  {
   "cell_type": "code",
   "execution_count": 52,
   "metadata": {},
   "outputs": [
    {
     "data": {
      "application/vnd.jupyter.widget-view+json": {
       "model_id": "e9fb0d1f242448568cb99418fd197857",
       "version_major": 2,
       "version_minor": 0
      },
      "text/plain": [
       "Evaluating datasets:   0%|          | 0/16 [00:00<?, ?it/s]"
      ]
     },
     "metadata": {},
     "output_type": "display_data"
    },
    {
     "name": "stdout",
     "output_type": "stream",
     "text": [
      "label\n",
      "1    1200\n",
      "0    1200\n",
      "Name: count, dtype: int64\n"
     ]
    },
    {
     "name": "stderr",
     "output_type": "stream",
     "text": [
      "/home/ottersome/Research/Polimi/SampledDetection/sampleddetection/util/data.py:50: FutureWarning: Downcasting behavior in `replace` is deprecated and will be removed in a future version. To retain the old behavior, explicitly call `result.infer_objects(copy=False)`. To opt-in to the future behavior, set `pd.set_option('future.no_silent_downcasting', True)`\n",
      "  relabelled_df.replace({\"label\": temp_dict}, inplace=True)\n",
      "/home/ottersome/Research/Polimi/SampledDetection/sampleddetection/util/data.py:50: FutureWarning: Downcasting behavior in `replace` is deprecated and will be removed in a future version. To retain the old behavior, explicitly call `result.infer_objects(copy=False)`. To opt-in to the future behavior, set `pd.set_option('future.no_silent_downcasting', True)`\n",
      "  relabelled_df.replace({\"label\": temp_dict}, inplace=True)\n",
      "3923.29s - pydevd: Sending message related to process being replaced timed-out after 5 seconds\n",
      "\n",
      "3923.47s - pydevd: Sending message related to process being replaced timed-out after 5 seconds\n",
      "\n",
      "3923.66s - pydevd: Sending message related to process being replaced timed-out after 5 seconds\n",
      "\n",
      "3923.83s - pydevd: Sending message related to process being replaced timed-out after 5 seconds\n",
      "\n",
      "3924.01s - pydevd: Sending message related to process being replaced timed-out after 5 seconds\n",
      "\n",
      "3924.19s - pydevd: Sending message related to process being replaced timed-out after 5 seconds\n",
      "\n",
      "3924.37s - pydevd: Sending message related to process being replaced timed-out after 5 seconds\n",
      "\n",
      "3924.78s - pydevd: Sending message related to process being replaced timed-out after 5 seconds\n",
      "\n",
      "3924.95s - pydevd: Sending message related to process being replaced timed-out after 5 seconds\n",
      "\n",
      "3925.13s - pydevd: Sending message related to process being replaced timed-out after 5 seconds\n",
      "\n",
      "3925.33s - pydevd: Sending message related to process being replaced timed-out after 5 seconds\n",
      "\n",
      "3925.50s - pydevd: Sending message related to process being replaced timed-out after 5 seconds\n",
      "\n",
      "3925.68s - pydevd: Sending message related to process being replaced timed-out after 5 seconds\n",
      "\n"
     ]
    },
    {
     "name": "stdout",
     "output_type": "stream",
     "text": [
      " 36%|███▌      | 9/25 [00:13<00:24,  1.52s/trial, best loss: -0.9255952380952379]\n",
      "Best parameters: {'gamma': 0, 'max_depth': 35, 'min_child_weight': 3.0, 'n_estimators': 100, 'subsample': 0.8}\n",
      "label\n",
      "0    1200\n",
      "1    1200\n",
      "Name: count, dtype: int64\n"
     ]
    },
    {
     "name": "stderr",
     "output_type": "stream",
     "text": [
      "/home/ottersome/Research/Polimi/SampledDetection/sampleddetection/util/data.py:50: FutureWarning: Downcasting behavior in `replace` is deprecated and will be removed in a future version. To retain the old behavior, explicitly call `result.infer_objects(copy=False)`. To opt-in to the future behavior, set `pd.set_option('future.no_silent_downcasting', True)`\n",
      "  relabelled_df.replace({\"label\": temp_dict}, inplace=True)\n"
     ]
    },
    {
     "name": "stdout",
     "output_type": "stream",
     "text": [
      " 28%|██▊       | 7/25 [00:00<00:02,  8.85trial/s, best loss: -0.9827380952380953]\n",
      "Best parameters: {'gamma': 2, 'max_depth': 5, 'min_child_weight': 8.0, 'n_estimators': 80, 'subsample': 0.7}\n",
      "label\n",
      "0    1200\n",
      "1    1200\n",
      "Name: count, dtype: int64\n"
     ]
    },
    {
     "name": "stderr",
     "output_type": "stream",
     "text": [
      "/home/ottersome/Research/Polimi/SampledDetection/sampleddetection/util/data.py:50: FutureWarning: Downcasting behavior in `replace` is deprecated and will be removed in a future version. To retain the old behavior, explicitly call `result.infer_objects(copy=False)`. To opt-in to the future behavior, set `pd.set_option('future.no_silent_downcasting', True)`\n",
      "  relabelled_df.replace({\"label\": temp_dict}, inplace=True)\n"
     ]
    },
    {
     "name": "stdout",
     "output_type": "stream",
     "text": [
      " 40%|████      | 10/25 [00:01<00:01,  8.98trial/s, best loss: -0.9886904761904762]\n",
      "Best parameters: {'gamma': 3, 'max_depth': 40, 'min_child_weight': 4.0, 'n_estimators': 80, 'subsample': 0.8}\n",
      "label\n",
      "1    1200\n",
      "0    1200\n",
      "Name: count, dtype: int64\n"
     ]
    },
    {
     "name": "stderr",
     "output_type": "stream",
     "text": [
      "/home/ottersome/Research/Polimi/SampledDetection/sampleddetection/util/data.py:50: FutureWarning: Downcasting behavior in `replace` is deprecated and will be removed in a future version. To retain the old behavior, explicitly call `result.infer_objects(copy=False)`. To opt-in to the future behavior, set `pd.set_option('future.no_silent_downcasting', True)`\n",
      "  relabelled_df.replace({\"label\": temp_dict}, inplace=True)\n"
     ]
    },
    {
     "name": "stdout",
     "output_type": "stream",
     "text": [
      " 36%|███▌      | 9/25 [00:00<00:01,  9.22trial/s, best loss: -0.9976190476190476]\n",
      "Best parameters: {'gamma': 1, 'max_depth': 45, 'min_child_weight': 4.0, 'n_estimators': 90, 'subsample': 0.9}\n",
      "label\n",
      "1    1200\n",
      "0    1200\n",
      "Name: count, dtype: int64\n"
     ]
    },
    {
     "name": "stderr",
     "output_type": "stream",
     "text": [
      "/home/ottersome/Research/Polimi/SampledDetection/sampleddetection/util/data.py:50: FutureWarning: Downcasting behavior in `replace` is deprecated and will be removed in a future version. To retain the old behavior, explicitly call `result.infer_objects(copy=False)`. To opt-in to the future behavior, set `pd.set_option('future.no_silent_downcasting', True)`\n",
      "  relabelled_df.replace({\"label\": temp_dict}, inplace=True)\n"
     ]
    },
    {
     "name": "stdout",
     "output_type": "stream",
     "text": [
      " 20%|██        | 5/25 [00:00<00:01, 11.16trial/s, best loss: -0.9851190476190477]\n",
      "Best parameters: {'gamma': 2, 'max_depth': 40, 'min_child_weight': 7.0, 'n_estimators': 30, 'subsample': 0.9}\n",
      "label\n",
      "0    1200\n",
      "1    1200\n",
      "Name: count, dtype: int64\n"
     ]
    },
    {
     "name": "stderr",
     "output_type": "stream",
     "text": [
      "/home/ottersome/Research/Polimi/SampledDetection/sampleddetection/util/data.py:50: FutureWarning: Downcasting behavior in `replace` is deprecated and will be removed in a future version. To retain the old behavior, explicitly call `result.infer_objects(copy=False)`. To opt-in to the future behavior, set `pd.set_option('future.no_silent_downcasting', True)`\n",
      "  relabelled_df.replace({\"label\": temp_dict}, inplace=True)\n"
     ]
    },
    {
     "name": "stdout",
     "output_type": "stream",
     "text": [
      " 36%|███▌      | 9/25 [00:00<00:01,  9.33trial/s, best loss: -0.981547619047619]\n",
      "Best parameters: {'gamma': 4, 'max_depth': 40, 'min_child_weight': 3.0, 'n_estimators': 60, 'subsample': 0.9}\n",
      "label\n",
      "0    1200\n",
      "1    1200\n",
      "Name: count, dtype: int64\n"
     ]
    },
    {
     "name": "stderr",
     "output_type": "stream",
     "text": [
      "/home/ottersome/Research/Polimi/SampledDetection/sampleddetection/util/data.py:50: FutureWarning: Downcasting behavior in `replace` is deprecated and will be removed in a future version. To retain the old behavior, explicitly call `result.infer_objects(copy=False)`. To opt-in to the future behavior, set `pd.set_option('future.no_silent_downcasting', True)`\n",
      "  relabelled_df.replace({\"label\": temp_dict}, inplace=True)\n"
     ]
    },
    {
     "name": "stdout",
     "output_type": "stream",
     "text": [
      " 20%|██        | 5/25 [00:00<00:02,  8.42trial/s, best loss: -0.9928571428571429]\n",
      "Best parameters: {'gamma': 0, 'max_depth': 50, 'min_child_weight': 8.0, 'n_estimators': 60, 'subsample': 1}\n",
      "label\n",
      "1    1200\n",
      "0    1200\n",
      "Name: count, dtype: int64\n"
     ]
    },
    {
     "name": "stderr",
     "output_type": "stream",
     "text": [
      "/home/ottersome/Research/Polimi/SampledDetection/sampleddetection/util/data.py:50: FutureWarning: Downcasting behavior in `replace` is deprecated and will be removed in a future version. To retain the old behavior, explicitly call `result.infer_objects(copy=False)`. To opt-in to the future behavior, set `pd.set_option('future.no_silent_downcasting', True)`\n",
      "  relabelled_df.replace({\"label\": temp_dict}, inplace=True)\n"
     ]
    },
    {
     "name": "stdout",
     "output_type": "stream",
     "text": [
      " 36%|███▌      | 9/25 [00:00<00:01,  9.13trial/s, best loss: -0.9958333333333333]\n",
      "Best parameters: {'gamma': 0, 'max_depth': 30, 'min_child_weight': 1.0, 'n_estimators': 30, 'subsample': 0.9}\n",
      "label\n",
      "0    1200\n",
      "1    1200\n",
      "Name: count, dtype: int64\n"
     ]
    },
    {
     "name": "stderr",
     "output_type": "stream",
     "text": [
      "/home/ottersome/Research/Polimi/SampledDetection/sampleddetection/util/data.py:50: FutureWarning: Downcasting behavior in `replace` is deprecated and will be removed in a future version. To retain the old behavior, explicitly call `result.infer_objects(copy=False)`. To opt-in to the future behavior, set `pd.set_option('future.no_silent_downcasting', True)`\n",
      "  relabelled_df.replace({\"label\": temp_dict}, inplace=True)\n"
     ]
    },
    {
     "name": "stdout",
     "output_type": "stream",
     "text": [
      " 20%|██        | 5/25 [00:00<00:02,  9.39trial/s, best loss: -0.9547619047619047]\n",
      "Best parameters: {'gamma': 0, 'max_depth': 35, 'min_child_weight': 2.0, 'n_estimators': 50, 'subsample': 1}\n",
      "label\n",
      "1    1200\n",
      "0    1200\n",
      "Name: count, dtype: int64\n"
     ]
    },
    {
     "name": "stderr",
     "output_type": "stream",
     "text": [
      "/home/ottersome/Research/Polimi/SampledDetection/sampleddetection/util/data.py:50: FutureWarning: Downcasting behavior in `replace` is deprecated and will be removed in a future version. To retain the old behavior, explicitly call `result.infer_objects(copy=False)`. To opt-in to the future behavior, set `pd.set_option('future.no_silent_downcasting', True)`\n",
      "  relabelled_df.replace({\"label\": temp_dict}, inplace=True)\n"
     ]
    },
    {
     "name": "stdout",
     "output_type": "stream",
     "text": [
      " 44%|████▍     | 11/25 [00:01<00:01,  8.98trial/s, best loss: -0.9898809523809524]\n",
      "Best parameters: {'gamma': 1, 'max_depth': 30, 'min_child_weight': 1.0, 'n_estimators': 70, 'subsample': 0.7}\n",
      "label\n",
      "0    1200\n",
      "1    1200\n",
      "Name: count, dtype: int64\n"
     ]
    },
    {
     "name": "stderr",
     "output_type": "stream",
     "text": [
      "/home/ottersome/Research/Polimi/SampledDetection/sampleddetection/util/data.py:50: FutureWarning: Downcasting behavior in `replace` is deprecated and will be removed in a future version. To retain the old behavior, explicitly call `result.infer_objects(copy=False)`. To opt-in to the future behavior, set `pd.set_option('future.no_silent_downcasting', True)`\n",
      "  relabelled_df.replace({\"label\": temp_dict}, inplace=True)\n"
     ]
    },
    {
     "name": "stdout",
     "output_type": "stream",
     "text": [
      " 40%|████      | 10/25 [00:01<00:01,  8.62trial/s, best loss: -0.993452380952381]\n",
      "Best parameters: {'gamma': 0, 'max_depth': 50, 'min_child_weight': 4.0, 'n_estimators': 90, 'subsample': 0.8}\n",
      "label\n",
      "0    1200\n",
      "1    1200\n",
      "Name: count, dtype: int64\n"
     ]
    },
    {
     "name": "stderr",
     "output_type": "stream",
     "text": [
      "/home/ottersome/Research/Polimi/SampledDetection/sampleddetection/util/data.py:50: FutureWarning: Downcasting behavior in `replace` is deprecated and will be removed in a future version. To retain the old behavior, explicitly call `result.infer_objects(copy=False)`. To opt-in to the future behavior, set `pd.set_option('future.no_silent_downcasting', True)`\n",
      "  relabelled_df.replace({\"label\": temp_dict}, inplace=True)\n"
     ]
    },
    {
     "name": "stdout",
     "output_type": "stream",
     "text": [
      " 20%|██        | 5/25 [00:00<00:02,  9.32trial/s, best loss: -0.9946428571428572]\n",
      "Best parameters: {'gamma': 1, 'max_depth': 25, 'min_child_weight': 5.0, 'n_estimators': 30, 'subsample': 0.7}\n",
      "label\n",
      "1    1200\n",
      "0    1200\n",
      "Name: count, dtype: int64\n"
     ]
    },
    {
     "name": "stderr",
     "output_type": "stream",
     "text": [
      "/home/ottersome/Research/Polimi/SampledDetection/sampleddetection/util/data.py:50: FutureWarning: Downcasting behavior in `replace` is deprecated and will be removed in a future version. To retain the old behavior, explicitly call `result.infer_objects(copy=False)`. To opt-in to the future behavior, set `pd.set_option('future.no_silent_downcasting', True)`\n",
      "  relabelled_df.replace({\"label\": temp_dict}, inplace=True)\n"
     ]
    },
    {
     "name": "stdout",
     "output_type": "stream",
     "text": [
      " 40%|████      | 10/25 [00:00<00:01, 10.83trial/s, best loss: -0.9857142857142858]\n",
      "Best parameters: {'gamma': 0, 'max_depth': 5, 'min_child_weight': 6.0, 'n_estimators': 50, 'subsample': 0.9}\n",
      "label\n",
      "0    1200\n",
      "1    1200\n",
      "Name: count, dtype: int64\n"
     ]
    },
    {
     "name": "stderr",
     "output_type": "stream",
     "text": [
      "/home/ottersome/Research/Polimi/SampledDetection/sampleddetection/util/data.py:50: FutureWarning: Downcasting behavior in `replace` is deprecated and will be removed in a future version. To retain the old behavior, explicitly call `result.infer_objects(copy=False)`. To opt-in to the future behavior, set `pd.set_option('future.no_silent_downcasting', True)`\n",
      "  relabelled_df.replace({\"label\": temp_dict}, inplace=True)\n"
     ]
    },
    {
     "name": "stdout",
     "output_type": "stream",
     "text": [
      " 20%|██        | 5/25 [00:00<00:02,  8.65trial/s, best loss: -0.9869047619047618]\n",
      "Best parameters: {'gamma': 3, 'max_depth': 35, 'min_child_weight': 6.0, 'n_estimators': 20, 'subsample': 0.8}\n",
      "label\n",
      "0    1200\n",
      "1    1200\n",
      "Name: count, dtype: int64\n"
     ]
    },
    {
     "name": "stderr",
     "output_type": "stream",
     "text": [
      "/home/ottersome/Research/Polimi/SampledDetection/sampleddetection/util/data.py:50: FutureWarning: Downcasting behavior in `replace` is deprecated and will be removed in a future version. To retain the old behavior, explicitly call `result.infer_objects(copy=False)`. To opt-in to the future behavior, set `pd.set_option('future.no_silent_downcasting', True)`\n",
      "  relabelled_df.replace({\"label\": temp_dict}, inplace=True)\n"
     ]
    },
    {
     "name": "stdout",
     "output_type": "stream",
     "text": [
      " 44%|████▍     | 11/25 [00:01<00:01,  8.52trial/s, best loss: -0.9922619047619048]\n",
      "Best parameters: {'gamma': 2, 'max_depth': 25, 'min_child_weight': 7.0, 'n_estimators': 90, 'subsample': 0.9}\n",
      "label\n",
      "1    1200\n",
      "0    1200\n",
      "Name: count, dtype: int64\n"
     ]
    },
    {
     "name": "stderr",
     "output_type": "stream",
     "text": [
      "/home/ottersome/Research/Polimi/SampledDetection/sampleddetection/util/data.py:50: FutureWarning: Downcasting behavior in `replace` is deprecated and will be removed in a future version. To retain the old behavior, explicitly call `result.infer_objects(copy=False)`. To opt-in to the future behavior, set `pd.set_option('future.no_silent_downcasting', True)`\n",
      "  relabelled_df.replace({\"label\": temp_dict}, inplace=True)\n"
     ]
    },
    {
     "name": "stdout",
     "output_type": "stream",
     "text": [
      " 20%|██        | 5/25 [00:00<00:02,  8.35trial/s, best loss: -0.9940476190476192]\n",
      "Best parameters: {'gamma': 2, 'max_depth': 30, 'min_child_weight': 1.0, 'n_estimators': 50, 'subsample': 1}\n"
     ]
    }
   ],
   "source": [
    "# This will be the outer loop that will vall evaluete_performance\n",
    "accuracies = []\n",
    "log_losses = []\n",
    "roc_aucs = []\n",
    "for ws, wl in tqdm(options_matrix,desc='Evaluating datasets'):\n",
    "    target_name = os.path.join(dataset_dir,dataset_filename.format(ws, wl))\n",
    "    if not os.path.exists(target_name):\n",
    "        print(f\"Could not find {target_name}\")\n",
    "        raise FileNotFoundError\n",
    "    # Load the data\n",
    "    df = pd.read_csv(target_name)\n",
    "    # Evaluate the data\n",
    "    metrics = evaluate_performance(df, ws, wl)\n",
    "    accuracies.append(metrics[\"accuracy\"])\n",
    "    log_losses.append(metrics[\"log_loss\"])\n",
    "    roc_aucs.append(metrics[\"roc_auc\"])\n",
    "\n",
    "# Plot"
   ]
  },
  {
   "cell_type": "code",
   "execution_count": 64,
   "metadata": {},
   "outputs": [
    {
     "name": "stdout",
     "output_type": "stream",
     "text": [
      "[(2e-06, 0.002), (2e-06, 0.043088693800637665), (2e-06, 0.9283177667225555), (2e-06, 20.0), (0.0004308869380063769, 0.002), (0.0004308869380063769, 0.043088693800637665), (0.0004308869380063769, 0.9283177667225555), (0.0004308869380063769, 20.0), (0.09283177667225564, 0.002), (0.09283177667225564, 0.043088693800637665), (0.09283177667225564, 0.9283177667225555), (0.09283177667225564, 20.0), (20.0, 0.002), (20.0, 0.043088693800637665), (20.0, 0.9283177667225555), (20.0, 20.0)]\n"
     ]
    }
   ],
   "source": [
    "print(options_matrix)"
   ]
  },
  {
   "cell_type": "code",
   "execution_count": 70,
   "metadata": {},
   "outputs": [
    {
     "data": {
      "image/png": "[encoded data removed]",
      "text/plain": [
       "<Figure size 500x1000 with 6 Axes>"
      ]
     },
     "metadata": {},
     "output_type": "display_data"
    }
   ],
   "source": [
    "import matplotlib.pyplot as plt\n",
    "import seaborn as sns\n",
    "from matplotlib.ticker import LogFormatter\n",
    "from matplotlib.ticker import FormatStrFormatter\n",
    "\n",
    "#winskips = [f\"{ws:.2f}\" for ws, wl in options_matrix]\n",
    "#winlens = [f\"{wl:.2f}\" for ws, wl in options_matrix]\n",
    "winskips = [f\"{i}\" for i in np.linspace(-6, 1, 4)]\n",
    "winlens = [f\"{i}\" for i in np.linspace(-3, 1, 4)]\n",
    "\n",
    "fig, ax = plt.subplots(3,1,figsize=(5,10))\n",
    "\n",
    "#formatter = LogFormatter(10, labelOnlyBase=False)\n",
    "formatter = FormatStrFormatter(\"%.2f\")\n",
    "\n",
    "sns.heatmap(np.array(accuracies).reshape(4,4),ax=ax[0],annot=True,fmt=\".2f\", xticklabels=winskips, yticklabels=winlens)\n",
    "ax[0].set_title(\"Accuracy\")\n",
    "ax[0].set_xlabel(\"Window Length\")\n",
    "ax[0].set_ylabel(\"Window Skip\")\n",
    "ax[0].xaxis.set_major_formatter(formatter)\n",
    "ax[0].yaxis.set_major_formatter(formatter)\n",
    "\n",
    "sns.heatmap(np.array(log_losses).reshape(4,4),ax=ax[1],annot=True,fmt=\".2f\",xticklabels=winskips, yticklabels=winlens)\n",
    "ax[1].set_title(\"Log Loss\")\n",
    "ax[1].set_xlabel(\"Window Length\")\n",
    "ax[1].set_ylabel(\"Window Skip\")\n",
    "ax[1].xaxis.set_major_formatter(formatter)\n",
    "ax[1].yaxis.set_major_formatter(formatter)\n",
    "\n",
    "sns.heatmap(np.array(roc_aucs).reshape(4,4),ax=ax[2],annot=True,fmt=\".2f\",xticklabels=winskips, yticklabels=winlens)\n",
    "ax[2].set_title(\"ROC AUC\")\n",
    "ax[2].set_xlabel(\"Window Length\")\n",
    "ax[2].set_ylabel(\"Window Skip\")\n",
    "ax[2].xaxis.set_major_formatter(formatter)\n",
    "ax[2].yaxis.set_major_formatter(formatter)\n",
    "\n",
    "plt.tight_layout()\n",
    "plt.show()\n"
   ]
  }
 ],
 "metadata": {
  "kernelspec": {
   "display_name": "Python 3 (ipykernel)",
   "language": "python",
   "name": "python3"
  },
  "language_info": {
   "codemirror_mode": {
    "name": "ipython",
    "version": 3
   },
   "file_extension": ".py",
   "mimetype": "text/x-python",
   "name": "python",
   "nbconvert_exporter": "python",
   "pygments_lexer": "ipython3",
   "version": "3.9.18"
  }
 },
 "nbformat": 4,
 "nbformat_minor": 2
}
