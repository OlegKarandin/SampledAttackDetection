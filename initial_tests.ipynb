{
 "cells": [
  {
   "cell_type": "markdown",
   "metadata": {},
   "source": [
    "# Introduction\n",
    "Point of this notebook is simply to observe (withotu any decision making) the performance across a matrix of window skips and window lengths"
   ]
  },
  {
   "cell_type": "code",
   "execution_count": 1,
   "metadata": {},
   "outputs": [
    {
     "name": "stderr",
     "output_type": "stream",
     "text": [
      "WARNING: No IPv4 address found on anpi1 !\n",
      "WARNING: No IPv4 address found on anpi0 !\n",
      "WARNING: more No IPv4 address found on anpi2 !\n"
     ]
    }
   ],
   "source": [
    "from sampleddetection.common_lingo import Action, State\n",
    "from sampleddetection.environment.model import Environment\n",
    "from sampleddetection.datastructures.flowsession import SampledFlowSession\n",
    "import numpy as np\n",
    "from typing import List\n",
    "import os\n",
    "from tqdm.notebook import tqdm\n",
    "from pathlib import Path\n",
    "from itertools import product\n",
    "import random\n",
    "\n",
    "# Make sure these are reloaded when cells are rerun\n",
    "%load_ext autoreload\n",
    "%autoreload 2"
   ]
  },
  {
   "cell_type": "code",
   "execution_count": 2,
   "metadata": {},
   "outputs": [
    {
     "name": "stdout",
     "output_type": "stream",
     "text": [
      "Working with 9 permutaitions\n"
     ]
    }
   ],
   "source": [
    "# Setup the environment\n",
    "# From Microsecond to dekasecond\n",
    "window_skips    = 2*np.logspace(-6, 1, 3, dtype=float)\n",
    "window_lengths  = 2*np.logspace(-5, 1, 3, dtype=float)\n",
    "batch_size      = 16\n",
    "csv_path = './bigdata/Wednesday.csv'\n",
    "dataset_dir    = './bigdata/precalc_windows/'\n",
    "dataset_filename = 'ws_{}_wl_{}.csv'\n",
    "desired_features = [\n",
    "            # Debugging info\n",
    "            \"start_ts\",\n",
    "            \"start_timestamp\",\n",
    "            \"end_timestamp\",\n",
    "            \"tot_fwd_pkts\",\n",
    "            \"tot_bwd_pkts\",\n",
    "            # Non debugging\n",
    "            \"fwd_pkt_len_max\",\n",
    "            \"fwd_pkt_len_min\",\n",
    "            \"fwd_pkt_len_mean\",\n",
    "            \"bwd_pkt_len_max\",\n",
    "            \"bwd_pkt_len_min\",\n",
    "            \"bwd_pkt_len_mean\",\n",
    "            \"flow_byts_s\",\n",
    "            \"flow_pkts_s\",\n",
    "            \"flow_iat_mean\",\n",
    "            \"flow_iat_max\",\n",
    "            \"flow_iat_min\",\n",
    "            \"fwd_iat_mean\",\n",
    "            \"fwd_iat_max\",\n",
    "            \"fwd_iat_min\",\n",
    "            \"bwd_iat_max\",\n",
    "            \"bwd_iat_min\",\n",
    "            \"bwd_iat_mean\",\n",
    "            \"pkt_len_min\",\n",
    "            \"pkt_len_max\",\n",
    "            \"pkt_len_mean\",\n",
    "]\n",
    "\n",
    "# Use product to get a matrix of combinations\n",
    "options_matrix = list(product(window_skips, window_lengths))\n",
    "print(f\"Working with {len(options_matrix)} permutaitions\")"
   ]
  },
  {
   "cell_type": "code",
   "execution_count": 3,
   "metadata": {},
   "outputs": [
    {
     "name": "stderr",
     "output_type": "stream",
     "text": [
      "2024-03-26 11:25:07,528 - DynamicWindowSampler - INFO - Loading the capture file bigdata/Wednesday.csv\n",
      "2024-03-26 11:25:07,530 - DynamicWindowSampler - INFO - Loading the capture file bigdata/Wednesday.csv\n",
      "2024-03-26 11:25:07,531 - CSVReader - INFO - Reading csv...\n"
     ]
    },
    {
     "name": "stderr",
     "output_type": "stream",
     "text": [
      "2024-03-26 11:25:30,351 - CSVReader - INFO - CSV loaded, took  22.82 seconds with 13704955 length\n"
     ]
    }
   ],
   "source": [
    "# Create or Load dataset\n",
    "from sampleddetection.samplers.window_sampler import DynamicWindowSampler\n",
    "from sampleddetection.writers.convenience import save_to_csv\n",
    "from sampleddetection.readers.readers import CSVReader\n",
    "\n",
    "sampler = DynamicWindowSampler(Path(csv_path))\n",
    "environment = Environment(sampler)\n",
    "min_necessary_flows  = 10\n",
    "\n",
    "\n",
    "\n",
    "    \n",
    "# Create it\n",
    "\n",
    "    # Ensure that the dataset is balanced."
   ]
  },
  {
   "cell_type": "code",
   "execution_count": null,
   "metadata": {},
   "outputs": [],
   "source": [
    "def generate_sessions(amount: int, ws: float, wl: float) -> List[SampledFlowSession]:\n",
    "    cur_amnt = 0\n",
    "    sessions = []\n",
    "    inner_bar = tqdm(total=amount,desc=f'Generating {ws}-{wl} flow',leave=False)\n",
    "    while cur_amnt < amount:\n",
    "        flow_sesh =  environment.reset(winskip=ws,winlen=wl).flow_sesh\n",
    "        amnt_sesh_flows = len(flow_sesh.flows.keys())\n",
    "        cur_amnt += amnt_sesh_flows\n",
    "        sessions.append(flow_sesh)\n",
    "\n",
    "        inner_bar.update(amnt_sesh_flows)\n",
    "    return sessions"
   ]
  },
  {
   "cell_type": "code",
   "execution_count": 7,
   "metadata": {},
   "outputs": [
    {
     "data": {
      "application/vnd.jupyter.widget-view+json": {
       "model_id": "b828705af6164fda9f3b4f267ccaded7",
       "version_major": 2,
       "version_minor": 0
      },
      "text/plain": [
       "Creating datasets:   0%|          | 0/9 [00:00<?, ?it/s]"
      ]
     },
     "metadata": {},
     "output_type": "display_data"
    },
    {
     "data": {
      "application/vnd.jupyter.widget-view+json": {
       "model_id": "d28365bb15864398b37c0d8243700bf3",
       "version_major": 2,
       "version_minor": 0
      },
      "text/plain": [
       "Generating 2e-06-2e-05 flow:   0%|          | 0/10 [00:00<?, ?it/s]"
      ]
     },
     "metadata": {},
     "output_type": "display_data"
    },
    {
     "data": {
      "application/vnd.jupyter.widget-view+json": {
       "model_id": "c73327ac74c94135b894b36f982df527",
       "version_major": 2,
       "version_minor": 0
      },
      "text/plain": [
       "Generating 2e-06-0.02 flow:   0%|          | 0/10 [00:00<?, ?it/s]"
      ]
     },
     "metadata": {},
     "output_type": "display_data"
    },
    {
     "data": {
      "application/vnd.jupyter.widget-view+json": {
       "model_id": "4d938dda44d64ceaa98125ddc9e31625",
       "version_major": 2,
       "version_minor": 0
      },
      "text/plain": [
       "Generating 2e-06-20.0 flow:   0%|          | 0/10 [00:00<?, ?it/s]"
      ]
     },
     "metadata": {},
     "output_type": "display_data"
    },
    {
     "data": {
      "application/vnd.jupyter.widget-view+json": {
       "model_id": "7ebeeae5440b4e9eab1b3a1320028f6b",
       "version_major": 2,
       "version_minor": 0
      },
      "text/plain": [
       "Generating 0.006324555320336759-2e-05 flow:   0%|          | 0/10 [00:00<?, ?it/s]"
      ]
     },
     "metadata": {},
     "output_type": "display_data"
    },
    {
     "data": {
      "application/vnd.jupyter.widget-view+json": {
       "model_id": "91264955271544439261b6361f266922",
       "version_major": 2,
       "version_minor": 0
      },
      "text/plain": [
       "Generating 0.006324555320336759-0.02 flow:   0%|          | 0/10 [00:00<?, ?it/s]"
      ]
     },
     "metadata": {},
     "output_type": "display_data"
    },
    {
     "data": {
      "application/vnd.jupyter.widget-view+json": {
       "model_id": "ba6024bf4ec04f99ad30fa5a19ef22e6",
       "version_major": 2,
       "version_minor": 0
      },
      "text/plain": [
       "Generating 0.006324555320336759-20.0 flow:   0%|          | 0/10 [00:00<?, ?it/s]"
      ]
     },
     "metadata": {},
     "output_type": "display_data"
    },
    {
     "data": {
      "application/vnd.jupyter.widget-view+json": {
       "model_id": "35bd8ac9c48b4144a9f5fbb33b978595",
       "version_major": 2,
       "version_minor": 0
      },
      "text/plain": [
       "Generating 20.0-2e-05 flow:   0%|          | 0/10 [00:00<?, ?it/s]"
      ]
     },
     "metadata": {},
     "output_type": "display_data"
    },
    {
     "data": {
      "application/vnd.jupyter.widget-view+json": {
       "model_id": "1949f6ca6a75424383dcea83a059fa55",
       "version_major": 2,
       "version_minor": 0
      },
      "text/plain": [
       "Generating 20.0-0.02 flow:   0%|          | 0/10 [00:00<?, ?it/s]"
      ]
     },
     "metadata": {},
     "output_type": "display_data"
    },
    {
     "data": {
      "application/vnd.jupyter.widget-view+json": {
       "model_id": "2e72a191434149b1901b9270fc55b027",
       "version_major": 2,
       "version_minor": 0
      },
      "text/plain": [
       "Generating 20.0-20.0 flow:   0%|          | 0/10 [00:00<?, ?it/s]"
      ]
     },
     "metadata": {},
     "output_type": "display_data"
    }
   ],
   "source": [
    "\n",
    "flows = {}\n",
    "# Set random seeds:\n",
    "np.random.seed(0)\n",
    "random.seed(0)\n",
    "\n",
    "\n",
    "for ws, wl in tqdm(options_matrix,desc='Creating datasets'):\n",
    "    # Check if datasets exists\n",
    "    sessions = generate_sessions(min_necessary_flows,ws,wl)\n",
    "\n",
    "    ds_path = os.path.join(dataset_dir,dataset_filename.format(ws, wl))\n",
    "    save_to_csv(sessions, ds_path, desired_features=desired_features, overwrite=True)\n",
    "    \n"
   ]
  },
  {
   "cell_type": "code",
   "execution_count": 5,
   "metadata": {},
   "outputs": [
    {
     "ename": "AssertionError",
     "evalue": "Stating time 2e-06 out of range",
     "output_type": "error",
     "traceback": [
      "\u001b[0;31m---------------------------------------------------------------------------\u001b[0m",
      "\u001b[0;31mAssertionError\u001b[0m                            Traceback (most recent call last)",
      "Cell \u001b[0;32mIn[5], line 4\u001b[0m\n\u001b[1;32m      1\u001b[0m \u001b[38;5;66;03m# Create the environment\u001b[39;00m\n\u001b[1;32m      2\u001b[0m \u001b[38;5;28;01mfor\u001b[39;00m wk,wl \u001b[38;5;129;01min\u001b[39;00m options_matrix:\n\u001b[1;32m      3\u001b[0m     \u001b[38;5;66;03m# This will be a bit of a hack.\u001b[39;00m\n\u001b[0;32m----> 4\u001b[0m     state, _ \u001b[38;5;241m=\u001b[39m \u001b[43menvironment\u001b[49m\u001b[38;5;241;43m.\u001b[39;49m\u001b[43mreset\u001b[49m\u001b[43m(\u001b[49m\u001b[43mwk\u001b[49m\u001b[43m,\u001b[49m\u001b[43m \u001b[49m\u001b[43mwl\u001b[49m\u001b[43m)\u001b[49m\n\u001b[1;32m      6\u001b[0m     \u001b[38;5;66;03m# Since we will be training our tree model on an per-observation basis, we can just use `environment.reset()` for our needs and foreget about `steps()`\u001b[39;00m\n",
      "File \u001b[0;32m~/Research/Polimi/SampledDetection/sampleddetection/environment/model.py:105\u001b[0m, in \u001b[0;36mEnvironment.reset\u001b[0;34m(self, starting_time, winskip, winlen)\u001b[0m\n\u001b[1;32m     95\u001b[0m \u001b[38;5;28;01mdef\u001b[39;00m \u001b[38;5;21mreset\u001b[39m(\n\u001b[1;32m     96\u001b[0m     \u001b[38;5;28mself\u001b[39m,\n\u001b[1;32m     97\u001b[0m     starting_time: Union[\u001b[38;5;28;01mNone\u001b[39;00m, \u001b[38;5;28mfloat\u001b[39m] \u001b[38;5;241m=\u001b[39m \u001b[38;5;28;01mNone\u001b[39;00m,\n\u001b[0;32m   (...)\u001b[0m\n\u001b[1;32m    102\u001b[0m     \u001b[38;5;66;03m# Staring Frequencies\u001b[39;00m\n\u001b[1;32m    103\u001b[0m     \u001b[38;5;66;03m# Create New Flow Session\u001b[39;00m\n\u001b[0;32m--> 105\u001b[0m     \u001b[38;5;28;43mself\u001b[39;49m\u001b[38;5;241;43m.\u001b[39;49m\u001b[43m_initialize_triad\u001b[49m\u001b[43m(\u001b[49m\u001b[43mstarting_time\u001b[49m\u001b[43m,\u001b[49m\u001b[43m \u001b[49m\u001b[43mwinskip\u001b[49m\u001b[43m,\u001b[49m\u001b[43m \u001b[49m\u001b[43mwinlen\u001b[49m\u001b[43m)\u001b[49m\n\u001b[1;32m    107\u001b[0m     flow_sesh \u001b[38;5;241m=\u001b[39m \u001b[38;5;28mself\u001b[39m\u001b[38;5;241m.\u001b[39msampler\u001b[38;5;241m.\u001b[39msample(\n\u001b[1;32m    108\u001b[0m         \u001b[38;5;28mself\u001b[39m\u001b[38;5;241m.\u001b[39mstarting_time,\n\u001b[1;32m    109\u001b[0m         \u001b[38;5;28mself\u001b[39m\u001b[38;5;241m.\u001b[39mcur_winskip,\n\u001b[1;32m    110\u001b[0m         \u001b[38;5;28mself\u001b[39m\u001b[38;5;241m.\u001b[39mcur_winlen,\n\u001b[1;32m    111\u001b[0m     )\n\u001b[1;32m    113\u001b[0m     \u001b[38;5;28;01mreturn\u001b[39;00m State(\n\u001b[1;32m    114\u001b[0m         time_point\u001b[38;5;241m=\u001b[39m\u001b[38;5;28mself\u001b[39m\u001b[38;5;241m.\u001b[39mstarting_time,\n\u001b[1;32m    115\u001b[0m         window_skip\u001b[38;5;241m=\u001b[39m\u001b[38;5;28mself\u001b[39m\u001b[38;5;241m.\u001b[39mcur_winskip,\n\u001b[1;32m    116\u001b[0m         window_length\u001b[38;5;241m=\u001b[39m\u001b[38;5;28mself\u001b[39m\u001b[38;5;241m.\u001b[39mcur_winlen,\n\u001b[1;32m    117\u001b[0m         flow_sesh\u001b[38;5;241m=\u001b[39mflow_sesh,\n\u001b[1;32m    118\u001b[0m     )\n",
      "File \u001b[0;32m~/Research/Polimi/SampledDetection/sampleddetection/environment/model.py:141\u001b[0m, in \u001b[0;36mEnvironment._initialize_triad\u001b[0;34m(self, starting_time, winskip, winlen)\u001b[0m\n\u001b[1;32m    136\u001b[0m     \u001b[38;5;28mself\u001b[39m\u001b[38;5;241m.\u001b[39mstarting_time \u001b[38;5;241m=\u001b[39m random\u001b[38;5;241m.\u001b[39muniform(\n\u001b[1;32m    137\u001b[0m         min_time,\n\u001b[1;32m    138\u001b[0m         min_time \u001b[38;5;241m+\u001b[39m (max_time \u001b[38;5;241m-\u001b[39m min_time) \u001b[38;5;241m*\u001b[39m \u001b[38;5;28mself\u001b[39m\u001b[38;5;241m.\u001b[39mDAY_RIGHT_MARGIN,\n\u001b[1;32m    139\u001b[0m     )\n\u001b[1;32m    140\u001b[0m \u001b[38;5;28;01melse\u001b[39;00m:\n\u001b[0;32m--> 141\u001b[0m     \u001b[38;5;28;01massert\u001b[39;00m within(\n\u001b[1;32m    142\u001b[0m         starting_time, min_time, max_time \u001b[38;5;241m*\u001b[39m \u001b[38;5;28mself\u001b[39m\u001b[38;5;241m.\u001b[39mDAY_RIGHT_MARGIN\n\u001b[1;32m    143\u001b[0m     ), \u001b[38;5;124mf\u001b[39m\u001b[38;5;124m\"\u001b[39m\u001b[38;5;124mStating time \u001b[39m\u001b[38;5;132;01m{\u001b[39;00mstarting_time\u001b[38;5;132;01m}\u001b[39;00m\u001b[38;5;124m out of range\u001b[39m\u001b[38;5;124m\"\u001b[39m\n\u001b[1;32m    144\u001b[0m     \u001b[38;5;28mself\u001b[39m\u001b[38;5;241m.\u001b[39mstarting_time \u001b[38;5;241m=\u001b[39m starting_time\n\u001b[1;32m    146\u001b[0m \u001b[38;5;66;03m# Winskip\u001b[39;00m\n",
      "\u001b[0;31mAssertionError\u001b[0m: Stating time 2e-06 out of range"
     ]
    }
   ],
   "source": [
    "# Create the environment\n",
    "for wk,wl in options_matrix:\n",
    "    # This will be a bit of a hack.\n",
    "    state, _ = environment.reset(wk, wl)\n",
    "\n",
    "    # Since we will be training our tree model on an per-observation basis, we can just use `environment.reset()` for our needs and foreget about `steps()`"
   ]
  }
 ],
 "metadata": {
  "kernelspec": {
   "display_name": "Python 3 (ipykernel)",
   "language": "python",
   "name": "python3"
  },
  "language_info": {
   "codemirror_mode": {
    "name": "ipython",
    "version": 3
   },
   "file_extension": ".py",
   "mimetype": "text/x-python",
   "name": "python",
   "nbconvert_exporter": "python",
   "pygments_lexer": "ipython3",
   "version": "3.9.15"
  }
 },
 "nbformat": 4,
 "nbformat_minor": 2
}
